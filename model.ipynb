{
 "cells": [
  {
   "cell_type": "code",
   "execution_count": 4,
   "metadata": {},
   "outputs": [],
   "source": [
    "import pymupdf\n",
    "import pathlib\n",
    "import zipfile\n",
    "import os"
   ]
  },
  {
   "cell_type": "code",
   "execution_count": 2,
   "metadata": {},
   "outputs": [
    {
     "data": {
      "text/plain": [
       "0"
      ]
     },
     "execution_count": 2,
     "metadata": {},
     "output_type": "execute_result"
    }
   ],
   "source": [
    "# fileName=input()\n",
    "\n",
    "# with pymupdf.open(fileName) as doc:\n",
    "#     text=chr(12).join([page.get_text() for page in doc])\n",
    "\n",
    "# pathlib.Path(fileName+\".txt\").write_bytes(text.encode())"
   ]
  },
  {
   "cell_type": "code",
   "execution_count": null,
   "metadata": {},
   "outputs": [],
   "source": []
  },
  {
   "cell_type": "code",
   "execution_count": 5,
   "metadata": {},
   "outputs": [],
   "source": [
    "def extract_text_from_pdf(pdf_path):\n",
    "    with pymupdf.open(pdf_path) as pdf:\n",
    "        text=\"\"\n",
    "        for page_num in range(len(pdf)):\n",
    "            page=pdf[page_num]\n",
    "            text+=page.get_text()\n",
    "        return text"
   ]
  },
  {
   "cell_type": "code",
   "execution_count": 6,
   "metadata": {},
   "outputs": [
    {
     "name": "stdout",
     "output_type": "stream",
     "text": [
      "Text files saved and zipped as extracted_text_files.zip\n"
     ]
    }
   ],
   "source": [
    "# Function to extract PDFs from zipfile, convert them to text, and save as .txt files\n",
    "def extract_and_save_text_from_zip(zip_file_path, extract_to, output_zip_path):\n",
    "    with zipfile.ZipFile(zip_file_path, 'r') as zip_ref:\n",
    "        zip_ref.extractall(extract_to)\n",
    "\n",
    "    # Create a new zip file to store the .txt files\n",
    "    with zipfile.ZipFile(output_zip_path, 'w') as output_zip:\n",
    "        for root, dirs, files in os.walk(extract_to):\n",
    "            for file in files:\n",
    "                if file.endswith(\".pdf\"):\n",
    "                    pdf_path = os.path.join(root, file)\n",
    "                    text = extract_text_from_pdf(pdf_path)\n",
    "\n",
    "                    # Save the extracted text as a .txt file\n",
    "                    text_filename = os.path.splitext(file)[0] + \".txt\"\n",
    "                    text_filepath = os.path.join(extract_to, text_filename)\n",
    "                    with open(text_filepath, 'w', encoding='utf-8') as text_file:\n",
    "                        text_file.write(text)\n",
    "\n",
    "                    # Add the text file to the output zip\n",
    "                    output_zip.write(text_filepath, arcname=text_filename)\n",
    "\n",
    "# Example usage\n",
    "zip_file_path = \"Final_Resumes.zip\"  # Path to your input zipfile containing PDFs\n",
    "extract_to = \"Final_Resumes_Text\"  # Temporary directory to extract PDFs\n",
    "output_zip_path = \"extracted_text_files.zip\"  # Path to the output zipfile with text files\n",
    "\n",
    "# Extract text and create a zip of .txt files\n",
    "extract_and_save_text_from_zip(zip_file_path, extract_to, output_zip_path)\n",
    "\n",
    "print(f\"Text files saved and zipped as {output_zip_path}\")"
   ]
  },
  {
   "cell_type": "code",
   "execution_count": null,
   "metadata": {},
   "outputs": [],
   "source": []
  }
 ],
 "metadata": {
  "kernelspec": {
   "display_name": "Python 3",
   "language": "python",
   "name": "python3"
  },
  "language_info": {
   "codemirror_mode": {
    "name": "ipython",
    "version": 3
   },
   "file_extension": ".py",
   "mimetype": "text/x-python",
   "name": "python",
   "nbconvert_exporter": "python",
   "pygments_lexer": "ipython3",
   "version": "3.12.1"
  }
 },
 "nbformat": 4,
 "nbformat_minor": 2
}
